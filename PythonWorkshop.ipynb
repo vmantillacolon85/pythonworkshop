{
 "cells": [
  {
   "cell_type": "code",
   "execution_count": 2,
   "id": "166412db-040c-40f0-9caa-0c54fb56b6aa",
   "metadata": {},
   "outputs": [],
   "source": [
    "import pandas as pd "
   ]
  },
  {
   "cell_type": "code",
   "execution_count": 3,
   "id": "063506f5-87e5-4658-8c0e-a6cf7a16b6cd",
   "metadata": {},
   "outputs": [],
   "source": [
    "import numpy as np"
   ]
  },
  {
   "cell_type": "code",
   "execution_count": 4,
   "id": "9789c89a-1213-4c1d-b4f2-afb665cc6796",
   "metadata": {},
   "outputs": [],
   "source": [
    "df = pd.read_csv('data/dirty_data.csv')"
   ]
  },
  {
   "cell_type": "code",
   "execution_count": 24,
   "id": "5f9da997-fb09-4bde-8ed3-fe0f9ea1c38a",
   "metadata": {},
   "outputs": [
    {
     "data": {
      "text/plain": [
       "<bound method NDFrame.describe of           id  host_id    host_name neighbourhood_group       neighbourhood  \\\n",
       "0       2539     2787         John            Brooklyn          Kensington   \n",
       "1       2595     2845     Jennifer           Manhattan             Midtown   \n",
       "2       3647     4632    Elisabeth           Manhattan              Harlem   \n",
       "3       3831     4869  LisaRoxanne            Brooklyn        Clinton Hill   \n",
       "4       5022     7192        Laura           Manhattan         East Harlem   \n",
       "...      ...      ...          ...                 ...                 ...   \n",
       "1203  512775  2396295      Richard              Queens    Long Island City   \n",
       "1204  513343  2528671       Dennis            Brooklyn    Prospect Heights   \n",
       "1205  513688  2530670      Tiffany            Brooklyn         Boerum Hill   \n",
       "1206  514457  2096690      Richard            Brooklyn  Bedford-Stuyvesant   \n",
       "1207  514548  2533991       Amanda            Brooklyn            Bushwick   \n",
       "\n",
       "            room_type  price  minimum_nights  number_of_reviews  last_review  \\\n",
       "0        Private room    149               1                  9      43392.0   \n",
       "1     Entire home/apt    225               1                 45      43606.0   \n",
       "2        Private room    150               3                  0          NaN   \n",
       "3     Entire home/apt     89               1                270      43651.0   \n",
       "4     Entire home/apt     80              10                  9      43423.0   \n",
       "...               ...    ...             ...                ...          ...   \n",
       "1203  Entire home/apt    350               2                182      43627.0   \n",
       "1204  Entire home/apt    125              30                  1      41101.0   \n",
       "1205  Entire home/apt    350               2                134      43653.0   \n",
       "1206  Entire home/apt    150              10                 10      43611.0   \n",
       "1207  Entire home/apt    180              30                  0          NaN   \n",
       "\n",
       "      reviews_per_month  calculated_host_listings_count  availability_365  \\\n",
       "0                  0.21                               6               365   \n",
       "1                  0.38                               2               355   \n",
       "2                   NaN                               1               365   \n",
       "3                  4.64                               1               194   \n",
       "4                  0.10                               1                 0   \n",
       "...                 ...                             ...               ...   \n",
       "1203               2.20                               1               272   \n",
       "1204               0.01                               1               341   \n",
       "1205               1.56                               1                56   \n",
       "1206               0.17                               2               185   \n",
       "1207                NaN                               1               352   \n",
       "\n",
       "        rating  \n",
       "0     0.571896  \n",
       "1     0.184032  \n",
       "2     0.027267  \n",
       "3     0.461664  \n",
       "4     0.823074  \n",
       "...        ...  \n",
       "1203  0.424881  \n",
       "1204  0.046641  \n",
       "1205  0.206727  \n",
       "1206  0.482942  \n",
       "1207  0.701032  \n",
       "\n",
       "[1208 rows x 14 columns]>"
      ]
     },
     "execution_count": 24,
     "metadata": {},
     "output_type": "execute_result"
    }
   ],
   "source": [
    "df.describe"
   ]
  },
  {
   "cell_type": "code",
   "execution_count": 6,
   "id": "c08a00ab-7c9c-46a7-a2d6-8b15732fbebb",
   "metadata": {},
   "outputs": [
    {
     "data": {
      "text/plain": [
       "Brooklynn        570\n",
       "Manhattan        549\n",
       "Queens            58\n",
       "Bronx             17\n",
       "Staten Island     14\n",
       "Name: neighbourhood_group, dtype: int64"
      ]
     },
     "execution_count": 6,
     "metadata": {},
     "output_type": "execute_result"
    }
   ],
   "source": [
    "df['neighbourhood_group'].value_counts()"
   ]
  },
  {
   "cell_type": "code",
   "execution_count": 7,
   "id": "0f64f0a2-a459-4bac-b14e-15723ee3f7b2",
   "metadata": {},
   "outputs": [],
   "source": [
    "df['neighbourhood_group'] = df['neighbourhood_group'].replace('Brooklynn', 'Brooklyn')"
   ]
  },
  {
   "cell_type": "code",
   "execution_count": 8,
   "id": "f1f9be0a-5ecd-400b-940d-df07a5fd8298",
   "metadata": {},
   "outputs": [
    {
     "data": {
      "text/plain": [
       "Brooklyn         570\n",
       "Manhattan        549\n",
       "Queens            58\n",
       "Bronx             17\n",
       "Staten Island     14\n",
       "Name: neighbourhood_group, dtype: int64"
      ]
     },
     "execution_count": 8,
     "metadata": {},
     "output_type": "execute_result"
    }
   ],
   "source": [
    "df['neighbourhood_group'].value_counts()"
   ]
  },
  {
   "cell_type": "code",
   "execution_count": 9,
   "id": "fdaa58e8-06da-4504-a4fa-71d25de12c15",
   "metadata": {},
   "outputs": [
    {
     "data": {
      "text/html": [
       "<div>\n",
       "<style scoped>\n",
       "    .dataframe tbody tr th:only-of-type {\n",
       "        vertical-align: middle;\n",
       "    }\n",
       "\n",
       "    .dataframe tbody tr th {\n",
       "        vertical-align: top;\n",
       "    }\n",
       "\n",
       "    .dataframe thead th {\n",
       "        text-align: right;\n",
       "    }\n",
       "</style>\n",
       "<table border=\"1\" class=\"dataframe\">\n",
       "  <thead>\n",
       "    <tr style=\"text-align: right;\">\n",
       "      <th></th>\n",
       "      <th>id</th>\n",
       "      <th>host_id</th>\n",
       "      <th>host_name</th>\n",
       "      <th>neighbourhood_group</th>\n",
       "      <th>neighbourhood</th>\n",
       "      <th>room_type</th>\n",
       "      <th>price</th>\n",
       "      <th>minimum_nights</th>\n",
       "      <th>number_of_reviews</th>\n",
       "      <th>last_review</th>\n",
       "      <th>reviews_per_month</th>\n",
       "      <th>calculated_host_listings_count</th>\n",
       "      <th>availability_365</th>\n",
       "      <th>rating</th>\n",
       "    </tr>\n",
       "  </thead>\n",
       "  <tbody>\n",
       "    <tr>\n",
       "      <th>0</th>\n",
       "      <td>*2539</td>\n",
       "      <td>2787</td>\n",
       "      <td>John</td>\n",
       "      <td>Brooklyn</td>\n",
       "      <td>Kensington</td>\n",
       "      <td>Privaate room</td>\n",
       "      <td>149</td>\n",
       "      <td>1</td>\n",
       "      <td>9</td>\n",
       "      <td>43392.0</td>\n",
       "      <td>0.21</td>\n",
       "      <td>6</td>\n",
       "      <td>365</td>\n",
       "      <td>0.571896</td>\n",
       "    </tr>\n",
       "    <tr>\n",
       "      <th>1</th>\n",
       "      <td>2595</td>\n",
       "      <td>2845</td>\n",
       "      <td>Jennifer</td>\n",
       "      <td>Manhattan</td>\n",
       "      <td>Midtown</td>\n",
       "      <td>Entire home/apt</td>\n",
       "      <td>225</td>\n",
       "      <td>1</td>\n",
       "      <td>45</td>\n",
       "      <td>43606.0</td>\n",
       "      <td>0.38</td>\n",
       "      <td>2</td>\n",
       "      <td>355</td>\n",
       "      <td>0.184032</td>\n",
       "    </tr>\n",
       "    <tr>\n",
       "      <th>2</th>\n",
       "      <td>3647</td>\n",
       "      <td>4632</td>\n",
       "      <td>Elisabeth</td>\n",
       "      <td>Manhattan</td>\n",
       "      <td>Harlem</td>\n",
       "      <td>Privaate room</td>\n",
       "      <td>150</td>\n",
       "      <td>3</td>\n",
       "      <td>0</td>\n",
       "      <td>NaN</td>\n",
       "      <td>NaN</td>\n",
       "      <td>1</td>\n",
       "      <td>365</td>\n",
       "      <td>0.027267</td>\n",
       "    </tr>\n",
       "    <tr>\n",
       "      <th>3</th>\n",
       "      <td>3831</td>\n",
       "      <td>4869</td>\n",
       "      <td>LisaRoxanne</td>\n",
       "      <td>Brooklyn</td>\n",
       "      <td>Clinton Hill</td>\n",
       "      <td>Entire home/apt</td>\n",
       "      <td>89</td>\n",
       "      <td>1</td>\n",
       "      <td>270</td>\n",
       "      <td>43651.0</td>\n",
       "      <td>4.64</td>\n",
       "      <td>1</td>\n",
       "      <td>194</td>\n",
       "      <td>0.461664</td>\n",
       "    </tr>\n",
       "    <tr>\n",
       "      <th>4</th>\n",
       "      <td>5022</td>\n",
       "      <td>7192</td>\n",
       "      <td>Laura</td>\n",
       "      <td>Manhattan</td>\n",
       "      <td>East Harlem</td>\n",
       "      <td>Entire home/apt</td>\n",
       "      <td>80</td>\n",
       "      <td>10</td>\n",
       "      <td>9</td>\n",
       "      <td>43423.0</td>\n",
       "      <td>0.10</td>\n",
       "      <td>1</td>\n",
       "      <td>0</td>\n",
       "      <td>0.823074</td>\n",
       "    </tr>\n",
       "    <tr>\n",
       "      <th>...</th>\n",
       "      <td>...</td>\n",
       "      <td>...</td>\n",
       "      <td>...</td>\n",
       "      <td>...</td>\n",
       "      <td>...</td>\n",
       "      <td>...</td>\n",
       "      <td>...</td>\n",
       "      <td>...</td>\n",
       "      <td>...</td>\n",
       "      <td>...</td>\n",
       "      <td>...</td>\n",
       "      <td>...</td>\n",
       "      <td>...</td>\n",
       "      <td>...</td>\n",
       "    </tr>\n",
       "    <tr>\n",
       "      <th>1203</th>\n",
       "      <td>512775</td>\n",
       "      <td>2396295</td>\n",
       "      <td>Richard</td>\n",
       "      <td>Queens</td>\n",
       "      <td>Long Island City</td>\n",
       "      <td>Entire home/apt</td>\n",
       "      <td>350</td>\n",
       "      <td>2</td>\n",
       "      <td>182</td>\n",
       "      <td>43627.0</td>\n",
       "      <td>2.20</td>\n",
       "      <td>1</td>\n",
       "      <td>272</td>\n",
       "      <td>0.424881</td>\n",
       "    </tr>\n",
       "    <tr>\n",
       "      <th>1204</th>\n",
       "      <td>513343</td>\n",
       "      <td>2528671</td>\n",
       "      <td>Dennis</td>\n",
       "      <td>Brooklyn</td>\n",
       "      <td>Prospect Heights</td>\n",
       "      <td>Entire home/apt</td>\n",
       "      <td>125</td>\n",
       "      <td>30</td>\n",
       "      <td>1</td>\n",
       "      <td>41101.0</td>\n",
       "      <td>0.01</td>\n",
       "      <td>1</td>\n",
       "      <td>341</td>\n",
       "      <td>0.046641</td>\n",
       "    </tr>\n",
       "    <tr>\n",
       "      <th>1205</th>\n",
       "      <td>513688</td>\n",
       "      <td>2530670</td>\n",
       "      <td>Tiffany</td>\n",
       "      <td>Brooklyn</td>\n",
       "      <td>Boerum Hill</td>\n",
       "      <td>Entire home/apt</td>\n",
       "      <td>350</td>\n",
       "      <td>2</td>\n",
       "      <td>134</td>\n",
       "      <td>43653.0</td>\n",
       "      <td>1.56</td>\n",
       "      <td>1</td>\n",
       "      <td>56</td>\n",
       "      <td>0.206727</td>\n",
       "    </tr>\n",
       "    <tr>\n",
       "      <th>1206</th>\n",
       "      <td>514457</td>\n",
       "      <td>2096690</td>\n",
       "      <td>Richard</td>\n",
       "      <td>Brooklyn</td>\n",
       "      <td>Bedford-Stuyvesant</td>\n",
       "      <td>Entire home/apt</td>\n",
       "      <td>150</td>\n",
       "      <td>10</td>\n",
       "      <td>10</td>\n",
       "      <td>43611.0</td>\n",
       "      <td>0.17</td>\n",
       "      <td>2</td>\n",
       "      <td>185</td>\n",
       "      <td>0.482942</td>\n",
       "    </tr>\n",
       "    <tr>\n",
       "      <th>1207</th>\n",
       "      <td>514548</td>\n",
       "      <td>2533991</td>\n",
       "      <td>Amanda</td>\n",
       "      <td>Brooklyn</td>\n",
       "      <td>Bushwick</td>\n",
       "      <td>Entire home/apt</td>\n",
       "      <td>180</td>\n",
       "      <td>30</td>\n",
       "      <td>0</td>\n",
       "      <td>NaN</td>\n",
       "      <td>NaN</td>\n",
       "      <td>1</td>\n",
       "      <td>352</td>\n",
       "      <td>0.701032</td>\n",
       "    </tr>\n",
       "  </tbody>\n",
       "</table>\n",
       "<p>1208 rows × 14 columns</p>\n",
       "</div>"
      ],
      "text/plain": [
       "          id  host_id    host_name neighbourhood_group       neighbourhood  \\\n",
       "0      *2539     2787         John            Brooklyn          Kensington   \n",
       "1       2595     2845     Jennifer           Manhattan             Midtown   \n",
       "2       3647     4632    Elisabeth           Manhattan              Harlem   \n",
       "3       3831     4869  LisaRoxanne            Brooklyn        Clinton Hill   \n",
       "4       5022     7192        Laura           Manhattan         East Harlem   \n",
       "...      ...      ...          ...                 ...                 ...   \n",
       "1203  512775  2396295      Richard              Queens    Long Island City   \n",
       "1204  513343  2528671       Dennis            Brooklyn    Prospect Heights   \n",
       "1205  513688  2530670      Tiffany            Brooklyn         Boerum Hill   \n",
       "1206  514457  2096690      Richard            Brooklyn  Bedford-Stuyvesant   \n",
       "1207  514548  2533991       Amanda            Brooklyn            Bushwick   \n",
       "\n",
       "            room_type  price  minimum_nights  number_of_reviews  last_review  \\\n",
       "0       Privaate room    149               1                  9      43392.0   \n",
       "1     Entire home/apt    225               1                 45      43606.0   \n",
       "2       Privaate room    150               3                  0          NaN   \n",
       "3     Entire home/apt     89               1                270      43651.0   \n",
       "4     Entire home/apt     80              10                  9      43423.0   \n",
       "...               ...    ...             ...                ...          ...   \n",
       "1203  Entire home/apt    350               2                182      43627.0   \n",
       "1204  Entire home/apt    125              30                  1      41101.0   \n",
       "1205  Entire home/apt    350               2                134      43653.0   \n",
       "1206  Entire home/apt    150              10                 10      43611.0   \n",
       "1207  Entire home/apt    180              30                  0          NaN   \n",
       "\n",
       "      reviews_per_month  calculated_host_listings_count  availability_365  \\\n",
       "0                  0.21                               6               365   \n",
       "1                  0.38                               2               355   \n",
       "2                   NaN                               1               365   \n",
       "3                  4.64                               1               194   \n",
       "4                  0.10                               1                 0   \n",
       "...                 ...                             ...               ...   \n",
       "1203               2.20                               1               272   \n",
       "1204               0.01                               1               341   \n",
       "1205               1.56                               1                56   \n",
       "1206               0.17                               2               185   \n",
       "1207                NaN                               1               352   \n",
       "\n",
       "        rating  \n",
       "0     0.571896  \n",
       "1     0.184032  \n",
       "2     0.027267  \n",
       "3     0.461664  \n",
       "4     0.823074  \n",
       "...        ...  \n",
       "1203  0.424881  \n",
       "1204  0.046641  \n",
       "1205  0.206727  \n",
       "1206  0.482942  \n",
       "1207  0.701032  \n",
       "\n",
       "[1208 rows x 14 columns]"
      ]
     },
     "execution_count": 9,
     "metadata": {},
     "output_type": "execute_result"
    }
   ],
   "source": [
    "df"
   ]
  },
  {
   "cell_type": "code",
   "execution_count": 10,
   "id": "47a78936-fdfe-46a9-bfe0-de4f731d87cc",
   "metadata": {},
   "outputs": [],
   "source": [
    "df['room_type'] = df['room_type'].replace('Privaate room', 'Private room')"
   ]
  },
  {
   "cell_type": "code",
   "execution_count": 11,
   "id": "4cb0c24b-f649-4759-a2cb-687c3fe198eb",
   "metadata": {},
   "outputs": [],
   "source": [
    "df['id'] = df['id'].replace('\\*','', regex=True)"
   ]
  },
  {
   "cell_type": "code",
   "execution_count": 12,
   "id": "9240a08f-3efd-4e55-bd13-30b5796fbe95",
   "metadata": {},
   "outputs": [
    {
     "data": {
      "text/html": [
       "<div>\n",
       "<style scoped>\n",
       "    .dataframe tbody tr th:only-of-type {\n",
       "        vertical-align: middle;\n",
       "    }\n",
       "\n",
       "    .dataframe tbody tr th {\n",
       "        vertical-align: top;\n",
       "    }\n",
       "\n",
       "    .dataframe thead th {\n",
       "        text-align: right;\n",
       "    }\n",
       "</style>\n",
       "<table border=\"1\" class=\"dataframe\">\n",
       "  <thead>\n",
       "    <tr style=\"text-align: right;\">\n",
       "      <th></th>\n",
       "      <th>id</th>\n",
       "      <th>host_id</th>\n",
       "      <th>host_name</th>\n",
       "      <th>neighbourhood_group</th>\n",
       "      <th>neighbourhood</th>\n",
       "      <th>room_type</th>\n",
       "      <th>price</th>\n",
       "      <th>minimum_nights</th>\n",
       "      <th>number_of_reviews</th>\n",
       "      <th>last_review</th>\n",
       "      <th>reviews_per_month</th>\n",
       "      <th>calculated_host_listings_count</th>\n",
       "      <th>availability_365</th>\n",
       "      <th>rating</th>\n",
       "    </tr>\n",
       "  </thead>\n",
       "  <tbody>\n",
       "    <tr>\n",
       "      <th>0</th>\n",
       "      <td>2539</td>\n",
       "      <td>2787</td>\n",
       "      <td>John</td>\n",
       "      <td>Brooklyn</td>\n",
       "      <td>Kensington</td>\n",
       "      <td>Private room</td>\n",
       "      <td>149</td>\n",
       "      <td>1</td>\n",
       "      <td>9</td>\n",
       "      <td>43392.0</td>\n",
       "      <td>0.21</td>\n",
       "      <td>6</td>\n",
       "      <td>365</td>\n",
       "      <td>0.571896</td>\n",
       "    </tr>\n",
       "    <tr>\n",
       "      <th>1</th>\n",
       "      <td>2595</td>\n",
       "      <td>2845</td>\n",
       "      <td>Jennifer</td>\n",
       "      <td>Manhattan</td>\n",
       "      <td>Midtown</td>\n",
       "      <td>Entire home/apt</td>\n",
       "      <td>225</td>\n",
       "      <td>1</td>\n",
       "      <td>45</td>\n",
       "      <td>43606.0</td>\n",
       "      <td>0.38</td>\n",
       "      <td>2</td>\n",
       "      <td>355</td>\n",
       "      <td>0.184032</td>\n",
       "    </tr>\n",
       "    <tr>\n",
       "      <th>2</th>\n",
       "      <td>3647</td>\n",
       "      <td>4632</td>\n",
       "      <td>Elisabeth</td>\n",
       "      <td>Manhattan</td>\n",
       "      <td>Harlem</td>\n",
       "      <td>Private room</td>\n",
       "      <td>150</td>\n",
       "      <td>3</td>\n",
       "      <td>0</td>\n",
       "      <td>NaN</td>\n",
       "      <td>NaN</td>\n",
       "      <td>1</td>\n",
       "      <td>365</td>\n",
       "      <td>0.027267</td>\n",
       "    </tr>\n",
       "    <tr>\n",
       "      <th>3</th>\n",
       "      <td>3831</td>\n",
       "      <td>4869</td>\n",
       "      <td>LisaRoxanne</td>\n",
       "      <td>Brooklyn</td>\n",
       "      <td>Clinton Hill</td>\n",
       "      <td>Entire home/apt</td>\n",
       "      <td>89</td>\n",
       "      <td>1</td>\n",
       "      <td>270</td>\n",
       "      <td>43651.0</td>\n",
       "      <td>4.64</td>\n",
       "      <td>1</td>\n",
       "      <td>194</td>\n",
       "      <td>0.461664</td>\n",
       "    </tr>\n",
       "    <tr>\n",
       "      <th>4</th>\n",
       "      <td>5022</td>\n",
       "      <td>7192</td>\n",
       "      <td>Laura</td>\n",
       "      <td>Manhattan</td>\n",
       "      <td>East Harlem</td>\n",
       "      <td>Entire home/apt</td>\n",
       "      <td>80</td>\n",
       "      <td>10</td>\n",
       "      <td>9</td>\n",
       "      <td>43423.0</td>\n",
       "      <td>0.10</td>\n",
       "      <td>1</td>\n",
       "      <td>0</td>\n",
       "      <td>0.823074</td>\n",
       "    </tr>\n",
       "    <tr>\n",
       "      <th>...</th>\n",
       "      <td>...</td>\n",
       "      <td>...</td>\n",
       "      <td>...</td>\n",
       "      <td>...</td>\n",
       "      <td>...</td>\n",
       "      <td>...</td>\n",
       "      <td>...</td>\n",
       "      <td>...</td>\n",
       "      <td>...</td>\n",
       "      <td>...</td>\n",
       "      <td>...</td>\n",
       "      <td>...</td>\n",
       "      <td>...</td>\n",
       "      <td>...</td>\n",
       "    </tr>\n",
       "    <tr>\n",
       "      <th>1203</th>\n",
       "      <td>512775</td>\n",
       "      <td>2396295</td>\n",
       "      <td>Richard</td>\n",
       "      <td>Queens</td>\n",
       "      <td>Long Island City</td>\n",
       "      <td>Entire home/apt</td>\n",
       "      <td>350</td>\n",
       "      <td>2</td>\n",
       "      <td>182</td>\n",
       "      <td>43627.0</td>\n",
       "      <td>2.20</td>\n",
       "      <td>1</td>\n",
       "      <td>272</td>\n",
       "      <td>0.424881</td>\n",
       "    </tr>\n",
       "    <tr>\n",
       "      <th>1204</th>\n",
       "      <td>513343</td>\n",
       "      <td>2528671</td>\n",
       "      <td>Dennis</td>\n",
       "      <td>Brooklyn</td>\n",
       "      <td>Prospect Heights</td>\n",
       "      <td>Entire home/apt</td>\n",
       "      <td>125</td>\n",
       "      <td>30</td>\n",
       "      <td>1</td>\n",
       "      <td>41101.0</td>\n",
       "      <td>0.01</td>\n",
       "      <td>1</td>\n",
       "      <td>341</td>\n",
       "      <td>0.046641</td>\n",
       "    </tr>\n",
       "    <tr>\n",
       "      <th>1205</th>\n",
       "      <td>513688</td>\n",
       "      <td>2530670</td>\n",
       "      <td>Tiffany</td>\n",
       "      <td>Brooklyn</td>\n",
       "      <td>Boerum Hill</td>\n",
       "      <td>Entire home/apt</td>\n",
       "      <td>350</td>\n",
       "      <td>2</td>\n",
       "      <td>134</td>\n",
       "      <td>43653.0</td>\n",
       "      <td>1.56</td>\n",
       "      <td>1</td>\n",
       "      <td>56</td>\n",
       "      <td>0.206727</td>\n",
       "    </tr>\n",
       "    <tr>\n",
       "      <th>1206</th>\n",
       "      <td>514457</td>\n",
       "      <td>2096690</td>\n",
       "      <td>Richard</td>\n",
       "      <td>Brooklyn</td>\n",
       "      <td>Bedford-Stuyvesant</td>\n",
       "      <td>Entire home/apt</td>\n",
       "      <td>150</td>\n",
       "      <td>10</td>\n",
       "      <td>10</td>\n",
       "      <td>43611.0</td>\n",
       "      <td>0.17</td>\n",
       "      <td>2</td>\n",
       "      <td>185</td>\n",
       "      <td>0.482942</td>\n",
       "    </tr>\n",
       "    <tr>\n",
       "      <th>1207</th>\n",
       "      <td>514548</td>\n",
       "      <td>2533991</td>\n",
       "      <td>Amanda</td>\n",
       "      <td>Brooklyn</td>\n",
       "      <td>Bushwick</td>\n",
       "      <td>Entire home/apt</td>\n",
       "      <td>180</td>\n",
       "      <td>30</td>\n",
       "      <td>0</td>\n",
       "      <td>NaN</td>\n",
       "      <td>NaN</td>\n",
       "      <td>1</td>\n",
       "      <td>352</td>\n",
       "      <td>0.701032</td>\n",
       "    </tr>\n",
       "  </tbody>\n",
       "</table>\n",
       "<p>1208 rows × 14 columns</p>\n",
       "</div>"
      ],
      "text/plain": [
       "          id  host_id    host_name neighbourhood_group       neighbourhood  \\\n",
       "0       2539     2787         John            Brooklyn          Kensington   \n",
       "1       2595     2845     Jennifer           Manhattan             Midtown   \n",
       "2       3647     4632    Elisabeth           Manhattan              Harlem   \n",
       "3       3831     4869  LisaRoxanne            Brooklyn        Clinton Hill   \n",
       "4       5022     7192        Laura           Manhattan         East Harlem   \n",
       "...      ...      ...          ...                 ...                 ...   \n",
       "1203  512775  2396295      Richard              Queens    Long Island City   \n",
       "1204  513343  2528671       Dennis            Brooklyn    Prospect Heights   \n",
       "1205  513688  2530670      Tiffany            Brooklyn         Boerum Hill   \n",
       "1206  514457  2096690      Richard            Brooklyn  Bedford-Stuyvesant   \n",
       "1207  514548  2533991       Amanda            Brooklyn            Bushwick   \n",
       "\n",
       "            room_type  price  minimum_nights  number_of_reviews  last_review  \\\n",
       "0        Private room    149               1                  9      43392.0   \n",
       "1     Entire home/apt    225               1                 45      43606.0   \n",
       "2        Private room    150               3                  0          NaN   \n",
       "3     Entire home/apt     89               1                270      43651.0   \n",
       "4     Entire home/apt     80              10                  9      43423.0   \n",
       "...               ...    ...             ...                ...          ...   \n",
       "1203  Entire home/apt    350               2                182      43627.0   \n",
       "1204  Entire home/apt    125              30                  1      41101.0   \n",
       "1205  Entire home/apt    350               2                134      43653.0   \n",
       "1206  Entire home/apt    150              10                 10      43611.0   \n",
       "1207  Entire home/apt    180              30                  0          NaN   \n",
       "\n",
       "      reviews_per_month  calculated_host_listings_count  availability_365  \\\n",
       "0                  0.21                               6               365   \n",
       "1                  0.38                               2               355   \n",
       "2                   NaN                               1               365   \n",
       "3                  4.64                               1               194   \n",
       "4                  0.10                               1                 0   \n",
       "...                 ...                             ...               ...   \n",
       "1203               2.20                               1               272   \n",
       "1204               0.01                               1               341   \n",
       "1205               1.56                               1                56   \n",
       "1206               0.17                               2               185   \n",
       "1207                NaN                               1               352   \n",
       "\n",
       "        rating  \n",
       "0     0.571896  \n",
       "1     0.184032  \n",
       "2     0.027267  \n",
       "3     0.461664  \n",
       "4     0.823074  \n",
       "...        ...  \n",
       "1203  0.424881  \n",
       "1204  0.046641  \n",
       "1205  0.206727  \n",
       "1206  0.482942  \n",
       "1207  0.701032  \n",
       "\n",
       "[1208 rows x 14 columns]"
      ]
     },
     "execution_count": 12,
     "metadata": {},
     "output_type": "execute_result"
    }
   ],
   "source": [
    "df"
   ]
  },
  {
   "cell_type": "code",
   "execution_count": 13,
   "id": "fdb213bf-d497-4571-bfc5-9b3943b1909d",
   "metadata": {},
   "outputs": [
    {
     "data": {
      "text/plain": [
       "0       False\n",
       "1       False\n",
       "2       False\n",
       "3       False\n",
       "4       False\n",
       "        ...  \n",
       "1203    False\n",
       "1204    False\n",
       "1205    False\n",
       "1206    False\n",
       "1207    False\n",
       "Length: 1208, dtype: bool"
      ]
     },
     "execution_count": 13,
     "metadata": {},
     "output_type": "execute_result"
    }
   ],
   "source": [
    "df.duplicated()"
   ]
  },
  {
   "cell_type": "code",
   "execution_count": 14,
   "id": "ba277724-c35a-40e6-9ce8-6f344ad7bf69",
   "metadata": {},
   "outputs": [
    {
     "data": {
      "text/plain": [
       "0"
      ]
     },
     "execution_count": 14,
     "metadata": {},
     "output_type": "execute_result"
    }
   ],
   "source": [
    "df.duplicated().sum()"
   ]
  },
  {
   "cell_type": "code",
   "execution_count": 15,
   "id": "79ff75f4-d16d-4558-9613-941445f20509",
   "metadata": {},
   "outputs": [
    {
     "data": {
      "text/plain": [
       "id                                 0\n",
       "host_id                            0\n",
       "host_name                          1\n",
       "neighbourhood_group                0\n",
       "neighbourhood                      0\n",
       "room_type                          0\n",
       "price                              0\n",
       "minimum_nights                     0\n",
       "number_of_reviews                  0\n",
       "last_review                       50\n",
       "reviews_per_month                 50\n",
       "calculated_host_listings_count     0\n",
       "availability_365                   0\n",
       "rating                             0\n",
       "dtype: int64"
      ]
     },
     "execution_count": 15,
     "metadata": {},
     "output_type": "execute_result"
    }
   ],
   "source": [
    "df.isnull().sum()"
   ]
  },
  {
   "cell_type": "code",
   "execution_count": 16,
   "id": "98b6f83d-02ca-430e-8a7f-a965109d65b8",
   "metadata": {},
   "outputs": [
    {
     "data": {
      "text/plain": [
       "101"
      ]
     },
     "execution_count": 16,
     "metadata": {},
     "output_type": "execute_result"
    }
   ],
   "source": [
    "df.isnull().sum().sum()"
   ]
  },
  {
   "cell_type": "code",
   "execution_count": 17,
   "id": "40774b3d-b86c-4028-8822-3242e0b07703",
   "metadata": {},
   "outputs": [],
   "source": [
    "df_no_null = df.fillna(value = 0)"
   ]
  },
  {
   "cell_type": "code",
   "execution_count": 18,
   "id": "9c667008-9bb3-44a8-9a76-c1197e8ca53e",
   "metadata": {},
   "outputs": [
    {
     "data": {
      "text/plain": [
       "0"
      ]
     },
     "execution_count": 18,
     "metadata": {},
     "output_type": "execute_result"
    }
   ],
   "source": [
    "df_no_null.isnull().sum().sum()"
   ]
  },
  {
   "cell_type": "code",
   "execution_count": 19,
   "id": "5cf5481e-3860-4763-8713-deeecb3273c9",
   "metadata": {},
   "outputs": [
    {
     "name": "stdout",
     "output_type": "stream",
     "text": [
      "<class 'pandas.core.frame.DataFrame'>\n",
      "RangeIndex: 1208 entries, 0 to 1207\n",
      "Data columns (total 14 columns):\n",
      " #   Column                          Non-Null Count  Dtype  \n",
      "---  ------                          --------------  -----  \n",
      " 0   id                              1208 non-null   object \n",
      " 1   host_id                         1208 non-null   int64  \n",
      " 2   host_name                       1208 non-null   object \n",
      " 3   neighbourhood_group             1208 non-null   object \n",
      " 4   neighbourhood                   1208 non-null   object \n",
      " 5   room_type                       1208 non-null   object \n",
      " 6   price                           1208 non-null   int64  \n",
      " 7   minimum_nights                  1208 non-null   int64  \n",
      " 8   number_of_reviews               1208 non-null   int64  \n",
      " 9   last_review                     1208 non-null   float64\n",
      " 10  reviews_per_month               1208 non-null   float64\n",
      " 11  calculated_host_listings_count  1208 non-null   int64  \n",
      " 12  availability_365                1208 non-null   int64  \n",
      " 13  rating                          1208 non-null   float64\n",
      "dtypes: float64(3), int64(6), object(5)\n",
      "memory usage: 132.2+ KB\n"
     ]
    }
   ],
   "source": [
    "df_no_null.info()"
   ]
  },
  {
   "cell_type": "markdown",
   "id": "e528d6d2-1834-4b3c-b8f4-f2b41e31c195",
   "metadata": {},
   "source": [
    "## **What’s the average room price in each borough?**"
   ]
  },
  {
   "cell_type": "code",
   "execution_count": 20,
   "id": "e4b10faa-ef4b-483e-a100-d5c1f1fe898a",
   "metadata": {},
   "outputs": [],
   "source": [
    "df2 = df_no_null.groupby('neighbourhood_group')['price'].mean()"
   ]
  },
  {
   "cell_type": "code",
   "execution_count": 21,
   "id": "9eea2ed0-7fd9-4efe-a169-b82c54a69651",
   "metadata": {},
   "outputs": [
    {
     "data": {
      "text/plain": [
       "neighbourhood_group\n",
       "Bronx             67.647059\n",
       "Brooklyn         148.764912\n",
       "Manhattan        181.994536\n",
       "Queens            96.103448\n",
       "Staten Island     75.214286\n",
       "Name: price, dtype: float64"
      ]
     },
     "execution_count": 21,
     "metadata": {},
     "output_type": "execute_result"
    }
   ],
   "source": [
    "df2"
   ]
  },
  {
   "cell_type": "markdown",
   "id": "646eafa8-9e8a-48e3-9f92-6c79b760367f",
   "metadata": {},
   "source": [
    "## **What type of room costs the most? The least?**"
   ]
  },
  {
   "cell_type": "code",
   "execution_count": 22,
   "id": "d4f8aa1a-216a-4e9b-acfb-786a102f3d22",
   "metadata": {},
   "outputs": [],
   "source": [
    "df3 = df_no_null.groupby(['room_type'])['price'].max()"
   ]
  },
  {
   "cell_type": "code",
   "execution_count": 23,
   "id": "86dfcab5-effa-431a-9d70-9720e409a8e2",
   "metadata": {},
   "outputs": [
    {
     "data": {
      "text/plain": [
       "room_type\n",
       "Entire home/apt    2000\n",
       "Private room       3000\n",
       "Shared room         115\n",
       "Name: price, dtype: int64"
      ]
     },
     "execution_count": 23,
     "metadata": {},
     "output_type": "execute_result"
    }
   ],
   "source": [
    "df3"
   ]
  },
  {
   "cell_type": "code",
   "execution_count": null,
   "id": "9e0de10c-18a7-4567-90b4-7f569f632c79",
   "metadata": {},
   "outputs": [],
   "source": []
  }
 ],
 "metadata": {
  "kernelspec": {
   "display_name": "Python 3 (ipykernel)",
   "language": "python",
   "name": "python3"
  },
  "language_info": {
   "codemirror_mode": {
    "name": "ipython",
    "version": 3
   },
   "file_extension": ".py",
   "mimetype": "text/x-python",
   "name": "python",
   "nbconvert_exporter": "python",
   "pygments_lexer": "ipython3",
   "version": "3.9.13"
  }
 },
 "nbformat": 4,
 "nbformat_minor": 5
}
