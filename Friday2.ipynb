{
 "cells": [
  {
   "cell_type": "markdown",
   "id": "a6536ee8-3ebd-46bd-85bc-88ca1949b978",
   "metadata": {
    "tags": []
   },
   "source": [
    "# CSV importing"
   ]
  },
  {
   "cell_type": "code",
   "execution_count": 1,
   "id": "05733a6e-7d64-406f-bdfd-bf925d0678d6",
   "metadata": {
    "tags": []
   },
   "outputs": [
    {
     "data": {
      "text/html": [
       "<div>\n",
       "<style scoped>\n",
       "    .dataframe tbody tr th:only-of-type {\n",
       "        vertical-align: middle;\n",
       "    }\n",
       "\n",
       "    .dataframe tbody tr th {\n",
       "        vertical-align: top;\n",
       "    }\n",
       "\n",
       "    .dataframe thead th {\n",
       "        text-align: right;\n",
       "    }\n",
       "</style>\n",
       "<table border=\"1\" class=\"dataframe\">\n",
       "  <thead>\n",
       "    <tr style=\"text-align: right;\">\n",
       "      <th></th>\n",
       "      <th>id</th>\n",
       "      <th>host_id</th>\n",
       "      <th>host_name</th>\n",
       "      <th>neighbourhood_group</th>\n",
       "      <th>neighbourhood</th>\n",
       "      <th>room_type</th>\n",
       "      <th>price</th>\n",
       "      <th>minimum_nights</th>\n",
       "      <th>number_of_reviews</th>\n",
       "      <th>last_review</th>\n",
       "      <th>reviews_per_month</th>\n",
       "      <th>calculated_host_listings_count</th>\n",
       "      <th>availability_365</th>\n",
       "      <th>rating</th>\n",
       "    </tr>\n",
       "  </thead>\n",
       "  <tbody>\n",
       "    <tr>\n",
       "      <th>0</th>\n",
       "      <td>*2539</td>\n",
       "      <td>2787</td>\n",
       "      <td>John</td>\n",
       "      <td>Brooklynn</td>\n",
       "      <td>Kensington</td>\n",
       "      <td>Privaate room</td>\n",
       "      <td>149</td>\n",
       "      <td>1</td>\n",
       "      <td>9</td>\n",
       "      <td>43392.0</td>\n",
       "      <td>0.21</td>\n",
       "      <td>6</td>\n",
       "      <td>365</td>\n",
       "      <td>0.571896</td>\n",
       "    </tr>\n",
       "    <tr>\n",
       "      <th>1</th>\n",
       "      <td>2595</td>\n",
       "      <td>2845</td>\n",
       "      <td>Jennifer</td>\n",
       "      <td>Manhattan</td>\n",
       "      <td>Midtown</td>\n",
       "      <td>Entire home/apt</td>\n",
       "      <td>225</td>\n",
       "      <td>1</td>\n",
       "      <td>45</td>\n",
       "      <td>43606.0</td>\n",
       "      <td>0.38</td>\n",
       "      <td>2</td>\n",
       "      <td>355</td>\n",
       "      <td>0.184032</td>\n",
       "    </tr>\n",
       "    <tr>\n",
       "      <th>2</th>\n",
       "      <td>3647</td>\n",
       "      <td>4632</td>\n",
       "      <td>Elisabeth</td>\n",
       "      <td>Manhattan</td>\n",
       "      <td>Harlem</td>\n",
       "      <td>Privaate room</td>\n",
       "      <td>150</td>\n",
       "      <td>3</td>\n",
       "      <td>0</td>\n",
       "      <td>NaN</td>\n",
       "      <td>NaN</td>\n",
       "      <td>1</td>\n",
       "      <td>365</td>\n",
       "      <td>0.027267</td>\n",
       "    </tr>\n",
       "    <tr>\n",
       "      <th>3</th>\n",
       "      <td>3831</td>\n",
       "      <td>4869</td>\n",
       "      <td>LisaRoxanne</td>\n",
       "      <td>Brooklynn</td>\n",
       "      <td>Clinton Hill</td>\n",
       "      <td>Entire home/apt</td>\n",
       "      <td>89</td>\n",
       "      <td>1</td>\n",
       "      <td>270</td>\n",
       "      <td>43651.0</td>\n",
       "      <td>4.64</td>\n",
       "      <td>1</td>\n",
       "      <td>194</td>\n",
       "      <td>0.461664</td>\n",
       "    </tr>\n",
       "    <tr>\n",
       "      <th>4</th>\n",
       "      <td>5022</td>\n",
       "      <td>7192</td>\n",
       "      <td>Laura</td>\n",
       "      <td>Manhattan</td>\n",
       "      <td>East Harlem</td>\n",
       "      <td>Entire home/apt</td>\n",
       "      <td>80</td>\n",
       "      <td>10</td>\n",
       "      <td>9</td>\n",
       "      <td>43423.0</td>\n",
       "      <td>0.10</td>\n",
       "      <td>1</td>\n",
       "      <td>0</td>\n",
       "      <td>0.823074</td>\n",
       "    </tr>\n",
       "    <tr>\n",
       "      <th>...</th>\n",
       "      <td>...</td>\n",
       "      <td>...</td>\n",
       "      <td>...</td>\n",
       "      <td>...</td>\n",
       "      <td>...</td>\n",
       "      <td>...</td>\n",
       "      <td>...</td>\n",
       "      <td>...</td>\n",
       "      <td>...</td>\n",
       "      <td>...</td>\n",
       "      <td>...</td>\n",
       "      <td>...</td>\n",
       "      <td>...</td>\n",
       "      <td>...</td>\n",
       "    </tr>\n",
       "    <tr>\n",
       "      <th>1203</th>\n",
       "      <td>512775</td>\n",
       "      <td>2396295</td>\n",
       "      <td>Richard</td>\n",
       "      <td>Queens</td>\n",
       "      <td>Long Island City</td>\n",
       "      <td>Entire home/apt</td>\n",
       "      <td>350</td>\n",
       "      <td>2</td>\n",
       "      <td>182</td>\n",
       "      <td>43627.0</td>\n",
       "      <td>2.20</td>\n",
       "      <td>1</td>\n",
       "      <td>272</td>\n",
       "      <td>0.424881</td>\n",
       "    </tr>\n",
       "    <tr>\n",
       "      <th>1204</th>\n",
       "      <td>513343</td>\n",
       "      <td>2528671</td>\n",
       "      <td>Dennis</td>\n",
       "      <td>Brooklynn</td>\n",
       "      <td>Prospect Heights</td>\n",
       "      <td>Entire home/apt</td>\n",
       "      <td>125</td>\n",
       "      <td>30</td>\n",
       "      <td>1</td>\n",
       "      <td>41101.0</td>\n",
       "      <td>0.01</td>\n",
       "      <td>1</td>\n",
       "      <td>341</td>\n",
       "      <td>0.046641</td>\n",
       "    </tr>\n",
       "    <tr>\n",
       "      <th>1205</th>\n",
       "      <td>513688</td>\n",
       "      <td>2530670</td>\n",
       "      <td>Tiffany</td>\n",
       "      <td>Brooklynn</td>\n",
       "      <td>Boerum Hill</td>\n",
       "      <td>Entire home/apt</td>\n",
       "      <td>350</td>\n",
       "      <td>2</td>\n",
       "      <td>134</td>\n",
       "      <td>43653.0</td>\n",
       "      <td>1.56</td>\n",
       "      <td>1</td>\n",
       "      <td>56</td>\n",
       "      <td>0.206727</td>\n",
       "    </tr>\n",
       "    <tr>\n",
       "      <th>1206</th>\n",
       "      <td>514457</td>\n",
       "      <td>2096690</td>\n",
       "      <td>Richard</td>\n",
       "      <td>Brooklynn</td>\n",
       "      <td>Bedford-Stuyvesant</td>\n",
       "      <td>Entire home/apt</td>\n",
       "      <td>150</td>\n",
       "      <td>10</td>\n",
       "      <td>10</td>\n",
       "      <td>43611.0</td>\n",
       "      <td>0.17</td>\n",
       "      <td>2</td>\n",
       "      <td>185</td>\n",
       "      <td>0.482942</td>\n",
       "    </tr>\n",
       "    <tr>\n",
       "      <th>1207</th>\n",
       "      <td>514548</td>\n",
       "      <td>2533991</td>\n",
       "      <td>Amanda</td>\n",
       "      <td>Brooklynn</td>\n",
       "      <td>Bushwick</td>\n",
       "      <td>Entire home/apt</td>\n",
       "      <td>180</td>\n",
       "      <td>30</td>\n",
       "      <td>0</td>\n",
       "      <td>NaN</td>\n",
       "      <td>NaN</td>\n",
       "      <td>1</td>\n",
       "      <td>352</td>\n",
       "      <td>0.701032</td>\n",
       "    </tr>\n",
       "  </tbody>\n",
       "</table>\n",
       "<p>1208 rows × 14 columns</p>\n",
       "</div>"
      ],
      "text/plain": [
       "          id  host_id    host_name neighbourhood_group       neighbourhood  \\\n",
       "0      *2539     2787         John           Brooklynn          Kensington   \n",
       "1       2595     2845     Jennifer           Manhattan             Midtown   \n",
       "2       3647     4632    Elisabeth           Manhattan              Harlem   \n",
       "3       3831     4869  LisaRoxanne           Brooklynn        Clinton Hill   \n",
       "4       5022     7192        Laura           Manhattan         East Harlem   \n",
       "...      ...      ...          ...                 ...                 ...   \n",
       "1203  512775  2396295      Richard              Queens    Long Island City   \n",
       "1204  513343  2528671       Dennis           Brooklynn    Prospect Heights   \n",
       "1205  513688  2530670      Tiffany           Brooklynn         Boerum Hill   \n",
       "1206  514457  2096690      Richard           Brooklynn  Bedford-Stuyvesant   \n",
       "1207  514548  2533991       Amanda           Brooklynn            Bushwick   \n",
       "\n",
       "            room_type  price  minimum_nights  number_of_reviews  last_review  \\\n",
       "0       Privaate room    149               1                  9      43392.0   \n",
       "1     Entire home/apt    225               1                 45      43606.0   \n",
       "2       Privaate room    150               3                  0          NaN   \n",
       "3     Entire home/apt     89               1                270      43651.0   \n",
       "4     Entire home/apt     80              10                  9      43423.0   \n",
       "...               ...    ...             ...                ...          ...   \n",
       "1203  Entire home/apt    350               2                182      43627.0   \n",
       "1204  Entire home/apt    125              30                  1      41101.0   \n",
       "1205  Entire home/apt    350               2                134      43653.0   \n",
       "1206  Entire home/apt    150              10                 10      43611.0   \n",
       "1207  Entire home/apt    180              30                  0          NaN   \n",
       "\n",
       "      reviews_per_month  calculated_host_listings_count  availability_365  \\\n",
       "0                  0.21                               6               365   \n",
       "1                  0.38                               2               355   \n",
       "2                   NaN                               1               365   \n",
       "3                  4.64                               1               194   \n",
       "4                  0.10                               1                 0   \n",
       "...                 ...                             ...               ...   \n",
       "1203               2.20                               1               272   \n",
       "1204               0.01                               1               341   \n",
       "1205               1.56                               1                56   \n",
       "1206               0.17                               2               185   \n",
       "1207                NaN                               1               352   \n",
       "\n",
       "        rating  \n",
       "0     0.571896  \n",
       "1     0.184032  \n",
       "2     0.027267  \n",
       "3     0.461664  \n",
       "4     0.823074  \n",
       "...        ...  \n",
       "1203  0.424881  \n",
       "1204  0.046641  \n",
       "1205  0.206727  \n",
       "1206  0.482942  \n",
       "1207  0.701032  \n",
       "\n",
       "[1208 rows x 14 columns]"
      ]
     },
     "execution_count": 1,
     "metadata": {},
     "output_type": "execute_result"
    }
   ],
   "source": [
    "import pandas as pd\n",
    "import numpy as np\n",
    "\n",
    "df = pd.read_csv('data/dirty_data.csv')\n",
    "df"
   ]
  },
  {
   "cell_type": "markdown",
   "id": "a259fc34-fa5d-46e7-a7d9-bd9289068e7f",
   "metadata": {
    "tags": []
   },
   "source": [
    "# CSV cleaning for:\n",
    "### 1. stray characters"
   ]
  },
  {
   "cell_type": "code",
   "execution_count": 2,
   "id": "50fa62e5-67ce-45d7-b6f1-83174158ae64",
   "metadata": {
    "tags": []
   },
   "outputs": [
    {
     "data": {
      "text/plain": [
       "array(['Kensington', 'Midtown', 'Harlem', 'Clinton Hill', 'East Harlem',\n",
       "       'Murray Hill', 'Bedford-Stuyvesant', \"Hell's Kitchen\",\n",
       "       'upper West Side', 'Chinatown', 'South Slope', 'West Village',\n",
       "       'Williamsburg', 'Fort Greene', 'Chelsea', 'Crown Heights',\n",
       "       'Park Slope', 'Windsor Terrace', 'Inwood', 'East Village',\n",
       "       'Greenpoint', 'Bushwick', 'Flatbush', 'Lower East Side',\n",
       "       'Prospect-Lefferts Gardens', 'Long Island City', 'Kips Bay',\n",
       "       'SoHo', 'Upper East Side', 'Prospect Heights',\n",
       "       'Washington Heights', 'Woodside', 'Brooklynn Heights',\n",
       "       'Carroll Gardens', 'Gowanus', '* South Slope ', 'Flatlands',\n",
       "       'Cobble Hill', 'Flushing', 'Boerum Hill', 'Sunnyside', 'DUMBO',\n",
       "       'St. George', 'Highbridge', 'Financial District', 'Ridgewood',\n",
       "       'Morningside Heights', 'Jamaica', 'Middle Village', 'NoHo',\n",
       "       'Ditmars Steinway', 'Flatiron District', 'Roosevelt Island',\n",
       "       'Greenwich Village', 'Little Italy', 'East Flatbush',\n",
       "       'Tompkinsville', 'Astoria', 'Clason Point', 'Eastchester',\n",
       "       'Kingsbridge', 'Two Bridges', 'Queens Village', 'Rockaway Beach',\n",
       "       'Forest Hills', 'Nolita', 'Woodlawn', 'University Heights',\n",
       "       'Gravesend', 'Gramercy', 'Allerton', 'East New York',\n",
       "       'Theater District', 'Concourse Village', 'Sheepshead Bay',\n",
       "       'Emerson Hill', 'Fort Hamilton', 'Bensonhurst', 'Tribeca',\n",
       "       'Shore Acres', 'Sunset Park', 'Concourse', 'Elmhurst',\n",
       "       'Brighton Beach', 'Jackson Heights', 'Cypress Hills', 'St. Albans',\n",
       "       'Arrochar', 'Rego Park', 'Wakefield', 'Clifton', 'Bay Ridge',\n",
       "       'Graniteville', 'Spuyten Duyvil', 'Stapleton', 'Briarwood',\n",
       "       'Ozone Park', 'Columbia St', 'Vinegar Hill', 'Mott Haven',\n",
       "       'Longwood', 'Canarsie', 'Battery Park City', 'Civic Center',\n",
       "       'East Elmhurst', 'New Springville', 'Morris Heights'], dtype=object)"
      ]
     },
     "execution_count": 2,
     "metadata": {},
     "output_type": "execute_result"
    }
   ],
   "source": [
    "df.neighbourhood.unique()\n",
    "#found an * character & spaces in '* South Slope '\n",
    "#found Capitalization errors in 'upper West Side', 'DUMBO'"
   ]
  },
  {
   "cell_type": "code",
   "execution_count": 3,
   "id": "3ac44426-aedb-4b30-b840-35301168cc4c",
   "metadata": {
    "tags": []
   },
   "outputs": [
    {
     "data": {
      "text/plain": [
       "array(['Kensington', 'Midtown', 'Harlem', 'Clinton Hill', 'East Harlem',\n",
       "       'Murray Hill', 'Bedford-Stuyvesant', \"Hell's Kitchen\",\n",
       "       'Upper West Side', 'Chinatown', 'South Slope', 'West Village',\n",
       "       'Williamsburg', 'Fort Greene', 'Chelsea', 'Crown Heights',\n",
       "       'Park Slope', 'Windsor Terrace', 'Inwood', 'East Village',\n",
       "       'Greenpoint', 'Bushwick', 'Flatbush', 'Lower East Side',\n",
       "       'Prospect-Lefferts Gardens', 'Long Island City', 'Kips Bay',\n",
       "       'SoHo', 'Upper East Side', 'Prospect Heights',\n",
       "       'Washington Heights', 'Woodside', 'Brooklynn Heights',\n",
       "       'Carroll Gardens', 'Gowanus', 'Flatlands', 'Cobble Hill',\n",
       "       'Flushing', 'Boerum Hill', 'Sunnyside', 'Dumbo', 'St. George',\n",
       "       'Highbridge', 'Financial District', 'Ridgewood',\n",
       "       'Morningside Heights', 'Jamaica', 'Middle Village', 'NoHo',\n",
       "       'Ditmars Steinway', 'Flatiron District', 'Roosevelt Island',\n",
       "       'Greenwich Village', 'Little Italy', 'East Flatbush',\n",
       "       'Tompkinsville', 'Astoria', 'Clason Point', 'Eastchester',\n",
       "       'Kingsbridge', 'Two Bridges', 'Queens Village', 'Rockaway Beach',\n",
       "       'Forest Hills', 'Nolita', 'Woodlawn', 'University Heights',\n",
       "       'Gravesend', 'Gramercy', 'Allerton', 'East New York',\n",
       "       'Theater District', 'Concourse Village', 'Sheepshead Bay',\n",
       "       'Emerson Hill', 'Fort Hamilton', 'Bensonhurst', 'Tribeca',\n",
       "       'Shore Acres', 'Sunset Park', 'Concourse', 'Elmhurst',\n",
       "       'Brighton Beach', 'Jackson Heights', 'Cypress Hills', 'St. Albans',\n",
       "       'Arrochar', 'Rego Park', 'Wakefield', 'Clifton', 'Bay Ridge',\n",
       "       'Graniteville', 'Spuyten Duyvil', 'Stapleton', 'Briarwood',\n",
       "       'Ozone Park', 'Columbia St', 'Vinegar Hill', 'Mott Haven',\n",
       "       'Longwood', 'Canarsie', 'Battery Park City', 'Civic Center',\n",
       "       'East Elmhurst', 'New Springville', 'Morris Heights'], dtype=object)"
      ]
     },
     "execution_count": 3,
     "metadata": {},
     "output_type": "execute_result"
    }
   ],
   "source": [
    "df.neighbourhood = df.neighbourhood.replace('upper West Side', 'Upper West Side', regex=True)\n",
    "df.neighbourhood = df.neighbourhood.replace('DUMBO', 'Dumbo', regex=True)\n",
    "df.neighbourhood = df.neighbourhood.replace('\\* South Slope ', 'South Slope', regex=True)\n",
    "df.neighbourhood.unique()"
   ]
  },
  {
   "cell_type": "markdown",
   "id": "f2f1651b-12dd-479b-8d47-e0424d1cb939",
   "metadata": {
    "tags": []
   },
   "source": [
    "### 2. misspelled words"
   ]
  },
  {
   "cell_type": "code",
   "execution_count": 4,
   "id": "256e6174-652a-438e-819f-90c801f751f7",
   "metadata": {
    "tags": []
   },
   "outputs": [
    {
     "data": {
      "text/plain": [
       "array(['Brooklyn', 'Manhattan', 'Queens', 'Staten Island', 'Bronx'],\n",
       "      dtype=object)"
      ]
     },
     "execution_count": 4,
     "metadata": {},
     "output_type": "execute_result"
    }
   ],
   "source": [
    "df.neighbourhood_group.unique()\n",
    "#typo in 'Brooklynn'\n",
    "df = df.replace('Brooklynn','Brooklyn', regex=True)\n",
    "df.neighbourhood_group.unique()"
   ]
  },
  {
   "cell_type": "code",
   "execution_count": 5,
   "id": "ee140014-9213-4648-802f-5912bd92114b",
   "metadata": {
    "tags": []
   },
   "outputs": [
    {
     "data": {
      "text/plain": [
       "array(['Private Room', 'Entire home/apt', 'Shared room'], dtype=object)"
      ]
     },
     "execution_count": 5,
     "metadata": {},
     "output_type": "execute_result"
    }
   ],
   "source": [
    "df.room_type.unique()\n",
    "#found misspelled 'Privaate room'\n",
    "df.room_type = df.room_type.replace('Privaate room', 'Private Room', regex=True)\n",
    "df.room_type.unique()"
   ]
  },
  {
   "cell_type": "markdown",
   "id": "5e45f896-34c9-4563-aefe-ac9db1f81828",
   "metadata": {
    "tags": []
   },
   "source": [
    "### 3. duplicate data"
   ]
  },
  {
   "cell_type": "code",
   "execution_count": 6,
   "id": "5b6f4c52-5697-4b3a-9a7a-c3899ff54c4e",
   "metadata": {
    "tags": []
   },
   "outputs": [
    {
     "data": {
      "text/plain": [
       "0"
      ]
     },
     "execution_count": 6,
     "metadata": {},
     "output_type": "execute_result"
    }
   ],
   "source": [
    "df.duplicated().sum()\n",
    "#no dupes"
   ]
  },
  {
   "cell_type": "markdown",
   "id": "3a03d454-3d35-4202-8ec6-b659dfda377a",
   "metadata": {
    "tags": []
   },
   "source": [
    "### 4. datatypes"
   ]
  },
  {
   "cell_type": "code",
   "execution_count": 7,
   "id": "cc7199cb-78f4-4d41-9af4-10a10d188871",
   "metadata": {
    "tags": []
   },
   "outputs": [
    {
     "name": "stdout",
     "output_type": "stream",
     "text": [
      "<class 'pandas.core.frame.DataFrame'>\n",
      "RangeIndex: 1208 entries, 0 to 1207\n",
      "Data columns (total 14 columns):\n",
      " #   Column                          Non-Null Count  Dtype  \n",
      "---  ------                          --------------  -----  \n",
      " 0   id                              1208 non-null   object \n",
      " 1   host_id                         1208 non-null   int64  \n",
      " 2   host_name                       1207 non-null   object \n",
      " 3   neighbourhood_group             1208 non-null   object \n",
      " 4   neighbourhood                   1208 non-null   object \n",
      " 5   room_type                       1208 non-null   object \n",
      " 6   price                           1208 non-null   int64  \n",
      " 7   minimum_nights                  1208 non-null   int64  \n",
      " 8   number_of_reviews               1208 non-null   int64  \n",
      " 9   last_review                     1158 non-null   float64\n",
      " 10  reviews_per_month               1158 non-null   float64\n",
      " 11  calculated_host_listings_count  1208 non-null   int64  \n",
      " 12  availability_365                1208 non-null   int64  \n",
      " 13  rating                          1208 non-null   float64\n",
      "dtypes: float64(3), int64(6), object(5)\n",
      "memory usage: 132.2+ KB\n"
     ]
    }
   ],
   "source": [
    "df.info()\n",
    "#all good here"
   ]
  },
  {
   "cell_type": "markdown",
   "id": "dbe6484c-0881-4e23-a768-5952c88f2dd1",
   "metadata": {
    "tags": []
   },
   "source": [
    "### 5. null values"
   ]
  },
  {
   "cell_type": "code",
   "execution_count": 8,
   "id": "e58443dd-9474-47cd-bfe1-881e1146cdf3",
   "metadata": {},
   "outputs": [
    {
     "data": {
      "text/plain": [
       "id                                 0\n",
       "host_id                            0\n",
       "host_name                          1\n",
       "neighbourhood_group                0\n",
       "neighbourhood                      0\n",
       "room_type                          0\n",
       "price                              0\n",
       "minimum_nights                     0\n",
       "number_of_reviews                  0\n",
       "last_review                       50\n",
       "reviews_per_month                 50\n",
       "calculated_host_listings_count     0\n",
       "availability_365                   0\n",
       "rating                             0\n",
       "dtype: int64"
      ]
     },
     "execution_count": 8,
     "metadata": {},
     "output_type": "execute_result"
    }
   ],
   "source": [
    "# can we fill missing host_name with placeholder?\n",
    "# should we drop the 50 missing reviews per onth, since we do care about that metric? 0 may skew data?\n",
    "# the listings with null values related to reviewing are due to zero reviews total, \n",
    "### so we can safely add 0 to those values\n",
    "\n",
    "df.fillna(0)\n",
    "df.isnull().sum()\n",
    "# WHY DIDNT THIS WORK?"
   ]
  },
  {
   "cell_type": "code",
   "execution_count": 9,
   "id": "89210b94-f6cd-401d-be08-9da90a430cd0",
   "metadata": {},
   "outputs": [
    {
     "data": {
      "text/plain": [
       "id                                 0\n",
       "host_id                            0\n",
       "host_name                          1\n",
       "neighbourhood_group                0\n",
       "neighbourhood                      0\n",
       "room_type                          0\n",
       "price                              0\n",
       "minimum_nights                     0\n",
       "number_of_reviews                  0\n",
       "last_review                        0\n",
       "reviews_per_month                 50\n",
       "calculated_host_listings_count     0\n",
       "availability_365                   0\n",
       "rating                             0\n",
       "dtype: int64"
      ]
     },
     "execution_count": 9,
     "metadata": {},
     "output_type": "execute_result"
    }
   ],
   "source": [
    "df[\"last_review\"] = df[\"last_review\"].fillna(value=0)\n",
    "df.isnull().sum()"
   ]
  },
  {
   "cell_type": "code",
   "execution_count": 10,
   "id": "ce174fa0-a946-4cea-80f1-6629bd8e1976",
   "metadata": {},
   "outputs": [
    {
     "data": {
      "text/plain": [
       "id                                0\n",
       "host_id                           0\n",
       "host_name                         1\n",
       "neighbourhood_group               0\n",
       "neighbourhood                     0\n",
       "room_type                         0\n",
       "price                             0\n",
       "minimum_nights                    0\n",
       "number_of_reviews                 0\n",
       "last_review                       0\n",
       "reviews_per_month                 0\n",
       "calculated_host_listings_count    0\n",
       "availability_365                  0\n",
       "rating                            0\n",
       "dtype: int64"
      ]
     },
     "execution_count": 10,
     "metadata": {},
     "output_type": "execute_result"
    }
   ],
   "source": [
    "df[\"reviews_per_month\"] = df[\"reviews_per_month\"].fillna(value=0)\n",
    "df.isnull().sum()"
   ]
  },
  {
   "cell_type": "markdown",
   "id": "07dd58ba-1dab-4015-971f-5ffb6cd1dfd8",
   "metadata": {},
   "source": [
    "Chrissy\n",
    "    \n",
    "● How are the numeric values distributed (i.e. descriptive statistics)?"
   ]
  },
  {
   "cell_type": "code",
   "execution_count": 11,
   "id": "018ac57d-7bef-4aaa-a249-36b6abb55a07",
   "metadata": {},
   "outputs": [
    {
     "data": {
      "text/html": [
       "<div>\n",
       "<style scoped>\n",
       "    .dataframe tbody tr th:only-of-type {\n",
       "        vertical-align: middle;\n",
       "    }\n",
       "\n",
       "    .dataframe tbody tr th {\n",
       "        vertical-align: top;\n",
       "    }\n",
       "\n",
       "    .dataframe thead th {\n",
       "        text-align: right;\n",
       "    }\n",
       "</style>\n",
       "<table border=\"1\" class=\"dataframe\">\n",
       "  <thead>\n",
       "    <tr style=\"text-align: right;\">\n",
       "      <th></th>\n",
       "      <th>host_id</th>\n",
       "      <th>price</th>\n",
       "      <th>minimum_nights</th>\n",
       "      <th>number_of_reviews</th>\n",
       "      <th>last_review</th>\n",
       "      <th>reviews_per_month</th>\n",
       "      <th>calculated_host_listings_count</th>\n",
       "      <th>availability_365</th>\n",
       "      <th>rating</th>\n",
       "    </tr>\n",
       "  </thead>\n",
       "  <tbody>\n",
       "    <tr>\n",
       "      <th>count</th>\n",
       "      <td>1.208000e+03</td>\n",
       "      <td>1208.000000</td>\n",
       "      <td>1208.000000</td>\n",
       "      <td>1208.000000</td>\n",
       "      <td>1208.000000</td>\n",
       "      <td>1208.000000</td>\n",
       "      <td>1208.000000</td>\n",
       "      <td>1208.000000</td>\n",
       "      <td>1208.000000</td>\n",
       "    </tr>\n",
       "    <tr>\n",
       "      <th>mean</th>\n",
       "      <td>9.474827e+05</td>\n",
       "      <td>159.344371</td>\n",
       "      <td>9.150662</td>\n",
       "      <td>78.323675</td>\n",
       "      <td>41522.240894</td>\n",
       "      <td>0.887831</td>\n",
       "      <td>2.225166</td>\n",
       "      <td>165.152318</td>\n",
       "      <td>0.495490</td>\n",
       "    </tr>\n",
       "    <tr>\n",
       "      <th>std</th>\n",
       "      <td>9.116983e+05</td>\n",
       "      <td>148.716833</td>\n",
       "      <td>23.692776</td>\n",
       "      <td>88.634792</td>\n",
       "      <td>8650.631237</td>\n",
       "      <td>0.979817</td>\n",
       "      <td>4.048868</td>\n",
       "      <td>134.035522</td>\n",
       "      <td>0.285933</td>\n",
       "    </tr>\n",
       "    <tr>\n",
       "      <th>min</th>\n",
       "      <td>2.787000e+03</td>\n",
       "      <td>20.000000</td>\n",
       "      <td>1.000000</td>\n",
       "      <td>0.000000</td>\n",
       "      <td>0.000000</td>\n",
       "      <td>0.000000</td>\n",
       "      <td>1.000000</td>\n",
       "      <td>0.000000</td>\n",
       "      <td>0.000107</td>\n",
       "    </tr>\n",
       "    <tr>\n",
       "      <th>25%</th>\n",
       "      <td>2.576828e+05</td>\n",
       "      <td>85.000000</td>\n",
       "      <td>2.000000</td>\n",
       "      <td>14.000000</td>\n",
       "      <td>43218.750000</td>\n",
       "      <td>0.180000</td>\n",
       "      <td>1.000000</td>\n",
       "      <td>12.000000</td>\n",
       "      <td>0.260978</td>\n",
       "    </tr>\n",
       "    <tr>\n",
       "      <th>50%</th>\n",
       "      <td>7.463835e+05</td>\n",
       "      <td>129.000000</td>\n",
       "      <td>3.000000</td>\n",
       "      <td>43.000000</td>\n",
       "      <td>43603.500000</td>\n",
       "      <td>0.540000</td>\n",
       "      <td>1.000000</td>\n",
       "      <td>188.000000</td>\n",
       "      <td>0.496360</td>\n",
       "    </tr>\n",
       "    <tr>\n",
       "      <th>75%</th>\n",
       "      <td>1.470862e+06</td>\n",
       "      <td>195.000000</td>\n",
       "      <td>6.000000</td>\n",
       "      <td>116.000000</td>\n",
       "      <td>43639.000000</td>\n",
       "      <td>1.280000</td>\n",
       "      <td>2.000000</td>\n",
       "      <td>291.250000</td>\n",
       "      <td>0.730903</td>\n",
       "    </tr>\n",
       "    <tr>\n",
       "      <th>max</th>\n",
       "      <td>1.060985e+07</td>\n",
       "      <td>3000.000000</td>\n",
       "      <td>365.000000</td>\n",
       "      <td>480.000000</td>\n",
       "      <td>43654.000000</td>\n",
       "      <td>7.140000</td>\n",
       "      <td>28.000000</td>\n",
       "      <td>365.000000</td>\n",
       "      <td>0.997866</td>\n",
       "    </tr>\n",
       "  </tbody>\n",
       "</table>\n",
       "</div>"
      ],
      "text/plain": [
       "            host_id        price  minimum_nights  number_of_reviews  \\\n",
       "count  1.208000e+03  1208.000000     1208.000000        1208.000000   \n",
       "mean   9.474827e+05   159.344371        9.150662          78.323675   \n",
       "std    9.116983e+05   148.716833       23.692776          88.634792   \n",
       "min    2.787000e+03    20.000000        1.000000           0.000000   \n",
       "25%    2.576828e+05    85.000000        2.000000          14.000000   \n",
       "50%    7.463835e+05   129.000000        3.000000          43.000000   \n",
       "75%    1.470862e+06   195.000000        6.000000         116.000000   \n",
       "max    1.060985e+07  3000.000000      365.000000         480.000000   \n",
       "\n",
       "        last_review  reviews_per_month  calculated_host_listings_count  \\\n",
       "count   1208.000000        1208.000000                     1208.000000   \n",
       "mean   41522.240894           0.887831                        2.225166   \n",
       "std     8650.631237           0.979817                        4.048868   \n",
       "min        0.000000           0.000000                        1.000000   \n",
       "25%    43218.750000           0.180000                        1.000000   \n",
       "50%    43603.500000           0.540000                        1.000000   \n",
       "75%    43639.000000           1.280000                        2.000000   \n",
       "max    43654.000000           7.140000                       28.000000   \n",
       "\n",
       "       availability_365       rating  \n",
       "count       1208.000000  1208.000000  \n",
       "mean         165.152318     0.495490  \n",
       "std          134.035522     0.285933  \n",
       "min            0.000000     0.000107  \n",
       "25%           12.000000     0.260978  \n",
       "50%          188.000000     0.496360  \n",
       "75%          291.250000     0.730903  \n",
       "max          365.000000     0.997866  "
      ]
     },
     "execution_count": 11,
     "metadata": {},
     "output_type": "execute_result"
    }
   ],
   "source": [
    "df.describe()"
   ]
  },
  {
   "cell_type": "markdown",
   "id": "fececb43-2863-40f1-8829-b07e2ea608f5",
   "metadata": {},
   "source": [
    "Rosana\n",
    "● What’s the average room price in each borough? "
   ]
  },
  {
   "cell_type": "code",
   "execution_count": 12,
   "id": "2d3d71fe-da85-4535-b4d2-85695b09eed9",
   "metadata": {},
   "outputs": [
    {
     "data": {
      "text/html": [
       "<div>\n",
       "<style scoped>\n",
       "    .dataframe tbody tr th:only-of-type {\n",
       "        vertical-align: middle;\n",
       "    }\n",
       "\n",
       "    .dataframe tbody tr th {\n",
       "        vertical-align: top;\n",
       "    }\n",
       "\n",
       "    .dataframe thead th {\n",
       "        text-align: right;\n",
       "    }\n",
       "</style>\n",
       "<table border=\"1\" class=\"dataframe\">\n",
       "  <thead>\n",
       "    <tr style=\"text-align: right;\">\n",
       "      <th></th>\n",
       "      <th>price</th>\n",
       "    </tr>\n",
       "    <tr>\n",
       "      <th>neighbourhood_group</th>\n",
       "      <th></th>\n",
       "    </tr>\n",
       "  </thead>\n",
       "  <tbody>\n",
       "    <tr>\n",
       "      <th>Bronx</th>\n",
       "      <td>67.647059</td>\n",
       "    </tr>\n",
       "    <tr>\n",
       "      <th>Brooklyn</th>\n",
       "      <td>148.764912</td>\n",
       "    </tr>\n",
       "    <tr>\n",
       "      <th>Manhattan</th>\n",
       "      <td>181.994536</td>\n",
       "    </tr>\n",
       "    <tr>\n",
       "      <th>Queens</th>\n",
       "      <td>96.103448</td>\n",
       "    </tr>\n",
       "    <tr>\n",
       "      <th>Staten Island</th>\n",
       "      <td>75.214286</td>\n",
       "    </tr>\n",
       "  </tbody>\n",
       "</table>\n",
       "</div>"
      ],
      "text/plain": [
       "                          price\n",
       "neighbourhood_group            \n",
       "Bronx                 67.647059\n",
       "Brooklyn             148.764912\n",
       "Manhattan            181.994536\n",
       "Queens                96.103448\n",
       "Staten Island         75.214286"
      ]
     },
     "execution_count": 12,
     "metadata": {},
     "output_type": "execute_result"
    }
   ],
   "source": [
    "pivot_df = pd.pivot_table(df, index='neighbourhood_group', values='price')      \n",
    "pivot_df"
   ]
  },
  {
   "cell_type": "markdown",
   "id": "1d179df8-b2ad-491c-a313-a8d582066431",
   "metadata": {},
   "source": [
    "Chaya\n",
    "● What neighborhood has the most expensive rentals (max of mean)? "
   ]
  },
  {
   "cell_type": "code",
   "execution_count": 13,
   "id": "16d84b54-deb0-424f-9a8c-d099d01c9ec6",
   "metadata": {},
   "outputs": [
    {
     "data": {
      "text/html": [
       "<div>\n",
       "<style scoped>\n",
       "    .dataframe tbody tr th:only-of-type {\n",
       "        vertical-align: middle;\n",
       "    }\n",
       "\n",
       "    .dataframe tbody tr th {\n",
       "        vertical-align: top;\n",
       "    }\n",
       "\n",
       "    .dataframe thead th {\n",
       "        text-align: right;\n",
       "    }\n",
       "</style>\n",
       "<table border=\"1\" class=\"dataframe\">\n",
       "  <thead>\n",
       "    <tr style=\"text-align: right;\">\n",
       "      <th></th>\n",
       "      <th>max</th>\n",
       "      <th>mean</th>\n",
       "    </tr>\n",
       "    <tr>\n",
       "      <th>neighbourhood</th>\n",
       "      <th></th>\n",
       "      <th></th>\n",
       "    </tr>\n",
       "  </thead>\n",
       "  <tbody>\n",
       "    <tr>\n",
       "      <th>Allerton</th>\n",
       "      <td>125</td>\n",
       "      <td>80.000000</td>\n",
       "    </tr>\n",
       "    <tr>\n",
       "      <th>Arrochar</th>\n",
       "      <td>250</td>\n",
       "      <td>141.666667</td>\n",
       "    </tr>\n",
       "    <tr>\n",
       "      <th>Astoria</th>\n",
       "      <td>192</td>\n",
       "      <td>103.090909</td>\n",
       "    </tr>\n",
       "    <tr>\n",
       "      <th>Battery Park City</th>\n",
       "      <td>65</td>\n",
       "      <td>65.000000</td>\n",
       "    </tr>\n",
       "    <tr>\n",
       "      <th>Bay Ridge</th>\n",
       "      <td>49</td>\n",
       "      <td>49.000000</td>\n",
       "    </tr>\n",
       "    <tr>\n",
       "      <th>...</th>\n",
       "      <td>...</td>\n",
       "      <td>...</td>\n",
       "    </tr>\n",
       "    <tr>\n",
       "      <th>West Village</th>\n",
       "      <td>1300</td>\n",
       "      <td>245.216216</td>\n",
       "    </tr>\n",
       "    <tr>\n",
       "      <th>Williamsburg</th>\n",
       "      <td>451</td>\n",
       "      <td>147.477612</td>\n",
       "    </tr>\n",
       "    <tr>\n",
       "      <th>Windsor Terrace</th>\n",
       "      <td>300</td>\n",
       "      <td>150.714286</td>\n",
       "    </tr>\n",
       "    <tr>\n",
       "      <th>Woodlawn</th>\n",
       "      <td>77</td>\n",
       "      <td>77.000000</td>\n",
       "    </tr>\n",
       "    <tr>\n",
       "      <th>Woodside</th>\n",
       "      <td>85</td>\n",
       "      <td>77.500000</td>\n",
       "    </tr>\n",
       "  </tbody>\n",
       "</table>\n",
       "<p>106 rows × 2 columns</p>\n",
       "</div>"
      ],
      "text/plain": [
       "                    max        mean\n",
       "neighbourhood                      \n",
       "Allerton            125   80.000000\n",
       "Arrochar            250  141.666667\n",
       "Astoria             192  103.090909\n",
       "Battery Park City    65   65.000000\n",
       "Bay Ridge            49   49.000000\n",
       "...                 ...         ...\n",
       "West Village       1300  245.216216\n",
       "Williamsburg        451  147.477612\n",
       "Windsor Terrace     300  150.714286\n",
       "Woodlawn             77   77.000000\n",
       "Woodside             85   77.500000\n",
       "\n",
       "[106 rows x 2 columns]"
      ]
     },
     "execution_count": 13,
     "metadata": {},
     "output_type": "execute_result"
    }
   ],
   "source": [
    "pivot2_df = pd.pivot_table(df, index='neighbourhood', values='price', aggfunc=('max', 'mean'))      \n",
    "pivot2_df"
   ]
  },
  {
   "cell_type": "code",
   "execution_count": 14,
   "id": "259982aa-6a28-497b-a78d-b3fea835b17f",
   "metadata": {},
   "outputs": [
    {
     "data": {
      "text/plain": [
       "410.0"
      ]
     },
     "execution_count": 14,
     "metadata": {},
     "output_type": "execute_result"
    }
   ],
   "source": [
    "pivot2_df[\"mean\"].max()\n",
    "# where in the 1200 rows of data is this max value?"
   ]
  },
  {
   "cell_type": "code",
   "execution_count": 15,
   "id": "e4580417-30fe-44b9-ad2a-40b9fdc79c94",
   "metadata": {},
   "outputs": [
    {
     "data": {
      "text/html": [
       "<div>\n",
       "<style scoped>\n",
       "    .dataframe tbody tr th:only-of-type {\n",
       "        vertical-align: middle;\n",
       "    }\n",
       "\n",
       "    .dataframe tbody tr th {\n",
       "        vertical-align: top;\n",
       "    }\n",
       "\n",
       "    .dataframe thead th {\n",
       "        text-align: right;\n",
       "    }\n",
       "</style>\n",
       "<table border=\"1\" class=\"dataframe\">\n",
       "  <thead>\n",
       "    <tr style=\"text-align: right;\">\n",
       "      <th></th>\n",
       "      <th>max</th>\n",
       "      <th>mean</th>\n",
       "    </tr>\n",
       "    <tr>\n",
       "      <th>neighbourhood</th>\n",
       "      <th></th>\n",
       "      <th></th>\n",
       "    </tr>\n",
       "  </thead>\n",
       "  <tbody>\n",
       "    <tr>\n",
       "      <th>Graniteville</th>\n",
       "      <td>20</td>\n",
       "      <td>20.000</td>\n",
       "    </tr>\n",
       "    <tr>\n",
       "      <th>Tompkinsville</th>\n",
       "      <td>37</td>\n",
       "      <td>36.500</td>\n",
       "    </tr>\n",
       "    <tr>\n",
       "      <th>University Heights</th>\n",
       "      <td>37</td>\n",
       "      <td>37.000</td>\n",
       "    </tr>\n",
       "    <tr>\n",
       "      <th>Canarsie</th>\n",
       "      <td>39</td>\n",
       "      <td>39.000</td>\n",
       "    </tr>\n",
       "    <tr>\n",
       "      <th>Highbridge</th>\n",
       "      <td>45</td>\n",
       "      <td>42.500</td>\n",
       "    </tr>\n",
       "    <tr>\n",
       "      <th>...</th>\n",
       "      <td>...</td>\n",
       "      <td>...</td>\n",
       "    </tr>\n",
       "    <tr>\n",
       "      <th>Nolita</th>\n",
       "      <td>495</td>\n",
       "      <td>281.125</td>\n",
       "    </tr>\n",
       "    <tr>\n",
       "      <th>Dumbo</th>\n",
       "      <td>350</td>\n",
       "      <td>300.000</td>\n",
       "    </tr>\n",
       "    <tr>\n",
       "      <th>Tribeca</th>\n",
       "      <td>500</td>\n",
       "      <td>325.000</td>\n",
       "    </tr>\n",
       "    <tr>\n",
       "      <th>Civic Center</th>\n",
       "      <td>328</td>\n",
       "      <td>328.000</td>\n",
       "    </tr>\n",
       "    <tr>\n",
       "      <th>Brooklyn Heights</th>\n",
       "      <td>800</td>\n",
       "      <td>410.000</td>\n",
       "    </tr>\n",
       "  </tbody>\n",
       "</table>\n",
       "<p>106 rows × 2 columns</p>\n",
       "</div>"
      ],
      "text/plain": [
       "                    max     mean\n",
       "neighbourhood                   \n",
       "Graniteville         20   20.000\n",
       "Tompkinsville        37   36.500\n",
       "University Heights   37   37.000\n",
       "Canarsie             39   39.000\n",
       "Highbridge           45   42.500\n",
       "...                 ...      ...\n",
       "Nolita              495  281.125\n",
       "Dumbo               350  300.000\n",
       "Tribeca             500  325.000\n",
       "Civic Center        328  328.000\n",
       "Brooklyn Heights    800  410.000\n",
       "\n",
       "[106 rows x 2 columns]"
      ]
     },
     "execution_count": 15,
     "metadata": {},
     "output_type": "execute_result"
    }
   ],
   "source": [
    "pivot2_df.sort_values('mean')\n",
    "#greatest-value mean listed = max of mean = max avg price in Brooklyn Heights"
   ]
  },
  {
   "cell_type": "markdown",
   "id": "2d6a288d-7bdc-4a30-80fb-6841eac3cb55",
   "metadata": {},
   "source": [
    "Kosta\n",
    "● What type of room costs the most? The least?  "
   ]
  },
  {
   "cell_type": "code",
   "execution_count": 16,
   "id": "ebea3c06-d6b1-47dc-b40e-54df94ae1049",
   "metadata": {},
   "outputs": [
    {
     "data": {
      "text/html": [
       "<div>\n",
       "<style scoped>\n",
       "    .dataframe tbody tr th:only-of-type {\n",
       "        vertical-align: middle;\n",
       "    }\n",
       "\n",
       "    .dataframe tbody tr th {\n",
       "        vertical-align: top;\n",
       "    }\n",
       "\n",
       "    .dataframe thead th {\n",
       "        text-align: right;\n",
       "    }\n",
       "</style>\n",
       "<table border=\"1\" class=\"dataframe\">\n",
       "  <thead>\n",
       "    <tr style=\"text-align: right;\">\n",
       "      <th></th>\n",
       "      <th>price</th>\n",
       "    </tr>\n",
       "    <tr>\n",
       "      <th>room_type</th>\n",
       "      <th></th>\n",
       "    </tr>\n",
       "  </thead>\n",
       "  <tbody>\n",
       "    <tr>\n",
       "      <th>Entire home/apt</th>\n",
       "      <td>196.534075</td>\n",
       "    </tr>\n",
       "    <tr>\n",
       "      <th>Private Room</th>\n",
       "      <td>105.379167</td>\n",
       "    </tr>\n",
       "    <tr>\n",
       "      <th>Shared room</th>\n",
       "      <td>66.444444</td>\n",
       "    </tr>\n",
       "  </tbody>\n",
       "</table>\n",
       "</div>"
      ],
      "text/plain": [
       "                      price\n",
       "room_type                  \n",
       "Entire home/apt  196.534075\n",
       "Private Room     105.379167\n",
       "Shared room       66.444444"
      ]
     },
     "execution_count": 16,
     "metadata": {},
     "output_type": "execute_result"
    }
   ],
   "source": [
    "pivot3_df = pd.pivot_table(df, index='room_type', values='price', aggfunc=('mean'))\n",
    "pivot3_df"
   ]
  },
  {
   "cell_type": "markdown",
   "id": "8b88f5ec-d012-4576-8dec-c09fdf22c529",
   "metadata": {},
   "source": [
    "Kosta\n",
    "    \n",
    "● Are higher ratings correlated with higher prices? "
   ]
  },
  {
   "cell_type": "code",
   "execution_count": 17,
   "id": "4a9ba30c-ef1b-48c4-aab0-164a66370d29",
   "metadata": {},
   "outputs": [
    {
     "data": {
      "text/html": [
       "<div>\n",
       "<style scoped>\n",
       "    .dataframe tbody tr th:only-of-type {\n",
       "        vertical-align: middle;\n",
       "    }\n",
       "\n",
       "    .dataframe tbody tr th {\n",
       "        vertical-align: top;\n",
       "    }\n",
       "\n",
       "    .dataframe thead th {\n",
       "        text-align: right;\n",
       "    }\n",
       "</style>\n",
       "<table border=\"1\" class=\"dataframe\">\n",
       "  <thead>\n",
       "    <tr style=\"text-align: right;\">\n",
       "      <th></th>\n",
       "      <th>price</th>\n",
       "      <th>rating</th>\n",
       "    </tr>\n",
       "  </thead>\n",
       "  <tbody>\n",
       "    <tr>\n",
       "      <th>price</th>\n",
       "      <td>1.000000</td>\n",
       "      <td>0.013137</td>\n",
       "    </tr>\n",
       "    <tr>\n",
       "      <th>rating</th>\n",
       "      <td>0.013137</td>\n",
       "      <td>1.000000</td>\n",
       "    </tr>\n",
       "  </tbody>\n",
       "</table>\n",
       "</div>"
      ],
      "text/plain": [
       "           price    rating\n",
       "price   1.000000  0.013137\n",
       "rating  0.013137  1.000000"
      ]
     },
     "execution_count": 17,
     "metadata": {},
     "output_type": "execute_result"
    }
   ],
   "source": [
    "df[[\"price\",\"rating\"]].corr()\n",
    "#low value =0.013137 so R is too low to definitively say high correlation\n",
    "# LOW CORR"
   ]
  },
  {
   "cell_type": "markdown",
   "id": "90ef26b1-5152-4f29-841a-315bb22b61fa",
   "metadata": {},
   "source": [
    "All \n",
    "    \n",
    "● Are hosts with more rentals more likely to receive higher ratings?"
   ]
  },
  {
   "cell_type": "code",
   "execution_count": 18,
   "id": "183f6af2-bd16-4106-9e7e-4bf369683169",
   "metadata": {},
   "outputs": [
    {
     "data": {
      "text/html": [
       "<div>\n",
       "<style scoped>\n",
       "    .dataframe tbody tr th:only-of-type {\n",
       "        vertical-align: middle;\n",
       "    }\n",
       "\n",
       "    .dataframe tbody tr th {\n",
       "        vertical-align: top;\n",
       "    }\n",
       "\n",
       "    .dataframe thead th {\n",
       "        text-align: right;\n",
       "    }\n",
       "</style>\n",
       "<table border=\"1\" class=\"dataframe\">\n",
       "  <thead>\n",
       "    <tr style=\"text-align: right;\">\n",
       "      <th></th>\n",
       "      <th>calculated_host_listings_count</th>\n",
       "      <th>rating</th>\n",
       "    </tr>\n",
       "  </thead>\n",
       "  <tbody>\n",
       "    <tr>\n",
       "      <th>calculated_host_listings_count</th>\n",
       "      <td>1.000000</td>\n",
       "      <td>-0.026871</td>\n",
       "    </tr>\n",
       "    <tr>\n",
       "      <th>rating</th>\n",
       "      <td>-0.026871</td>\n",
       "      <td>1.000000</td>\n",
       "    </tr>\n",
       "  </tbody>\n",
       "</table>\n",
       "</div>"
      ],
      "text/plain": [
       "                                calculated_host_listings_count    rating\n",
       "calculated_host_listings_count                        1.000000 -0.026871\n",
       "rating                                               -0.026871  1.000000"
      ]
     },
     "execution_count": 18,
     "metadata": {},
     "output_type": "execute_result"
    }
   ],
   "source": [
    "df[[\"calculated_host_listings_count\",\"rating\"]].corr()\n",
    "# LOW CORR, altho negative this time"
   ]
  },
  {
   "cell_type": "markdown",
   "id": "61f8f204-470c-4f20-8800-347691f2e7f2",
   "metadata": {},
   "source": [
    "All \n",
    "\n",
    "● What’s the ‘best’ rental in NYC, considering location, price, and rating?  (this is a \n",
    "subjective judgment, but make sure you justify your choice) "
   ]
  },
  {
   "cell_type": "code",
   "execution_count": 19,
   "id": "a39a3ed3-74e1-41ec-9d4d-0bd8c9b382ee",
   "metadata": {},
   "outputs": [
    {
     "data": {
      "text/html": [
       "<div>\n",
       "<style scoped>\n",
       "    .dataframe tbody tr th:only-of-type {\n",
       "        vertical-align: middle;\n",
       "    }\n",
       "\n",
       "    .dataframe tbody tr th {\n",
       "        vertical-align: top;\n",
       "    }\n",
       "\n",
       "    .dataframe thead th {\n",
       "        text-align: right;\n",
       "    }\n",
       "</style>\n",
       "<table border=\"1\" class=\"dataframe\">\n",
       "  <thead>\n",
       "    <tr style=\"text-align: right;\">\n",
       "      <th></th>\n",
       "      <th>price</th>\n",
       "    </tr>\n",
       "    <tr>\n",
       "      <th>neighbourhood_group</th>\n",
       "      <th></th>\n",
       "    </tr>\n",
       "  </thead>\n",
       "  <tbody>\n",
       "    <tr>\n",
       "      <th>Bronx</th>\n",
       "      <td>125</td>\n",
       "    </tr>\n",
       "    <tr>\n",
       "      <th>Brooklyn</th>\n",
       "      <td>800</td>\n",
       "    </tr>\n",
       "    <tr>\n",
       "      <th>Manhattan</th>\n",
       "      <td>3000</td>\n",
       "    </tr>\n",
       "    <tr>\n",
       "      <th>Queens</th>\n",
       "      <td>350</td>\n",
       "    </tr>\n",
       "    <tr>\n",
       "      <th>Staten Island</th>\n",
       "      <td>250</td>\n",
       "    </tr>\n",
       "  </tbody>\n",
       "</table>\n",
       "</div>"
      ],
      "text/plain": [
       "                     price\n",
       "neighbourhood_group       \n",
       "Bronx                  125\n",
       "Brooklyn               800\n",
       "Manhattan             3000\n",
       "Queens                 350\n",
       "Staten Island          250"
      ]
     },
     "execution_count": 19,
     "metadata": {},
     "output_type": "execute_result"
    }
   ],
   "source": [
    "# Are you a renter or a landlord? \n",
    "# \"Best Place to Rent\" = cheapest without bedbugs\n",
    "# \"Best Rental to Own\" = most expensive to rent\n",
    "\n",
    "lastq1 = df.groupby('neighbourhood_group')[['price']].max()\n",
    "lastq1\n",
    "#priciest spot (best rental to own)"
   ]
  },
  {
   "cell_type": "code",
   "execution_count": 20,
   "id": "13be1158-e6d5-425a-a7c5-0a1f5cbd278f",
   "metadata": {},
   "outputs": [
    {
     "data": {
      "text/html": [
       "<div>\n",
       "<style scoped>\n",
       "    .dataframe tbody tr th:only-of-type {\n",
       "        vertical-align: middle;\n",
       "    }\n",
       "\n",
       "    .dataframe tbody tr th {\n",
       "        vertical-align: top;\n",
       "    }\n",
       "\n",
       "    .dataframe thead th {\n",
       "        text-align: right;\n",
       "    }\n",
       "</style>\n",
       "<table border=\"1\" class=\"dataframe\">\n",
       "  <thead>\n",
       "    <tr style=\"text-align: right;\">\n",
       "      <th></th>\n",
       "      <th>price</th>\n",
       "    </tr>\n",
       "    <tr>\n",
       "      <th>neighbourhood_group</th>\n",
       "      <th></th>\n",
       "    </tr>\n",
       "  </thead>\n",
       "  <tbody>\n",
       "    <tr>\n",
       "      <th>Bronx</th>\n",
       "      <td>35</td>\n",
       "    </tr>\n",
       "    <tr>\n",
       "      <th>Brooklyn</th>\n",
       "      <td>30</td>\n",
       "    </tr>\n",
       "    <tr>\n",
       "      <th>Manhattan</th>\n",
       "      <td>40</td>\n",
       "    </tr>\n",
       "    <tr>\n",
       "      <th>Queens</th>\n",
       "      <td>30</td>\n",
       "    </tr>\n",
       "    <tr>\n",
       "      <th>Staten Island</th>\n",
       "      <td>20</td>\n",
       "    </tr>\n",
       "  </tbody>\n",
       "</table>\n",
       "</div>"
      ],
      "text/plain": [
       "                     price\n",
       "neighbourhood_group       \n",
       "Bronx                   35\n",
       "Brooklyn                30\n",
       "Manhattan               40\n",
       "Queens                  30\n",
       "Staten Island           20"
      ]
     },
     "execution_count": 20,
     "metadata": {},
     "output_type": "execute_result"
    }
   ],
   "source": [
    "#cheapest spot (best to rent)\n",
    "lastq2 = df.groupby('neighbourhood_group')[['price']].min()\n",
    "lastq2"
   ]
  },
  {
   "cell_type": "markdown",
   "id": "9a7a6e8d-4b8a-460f-9656-991458ca47cb",
   "metadata": {},
   "source": [
    "# Incomplete Attempts / scratchwork from hereon out"
   ]
  },
  {
   "cell_type": "code",
   "execution_count": 21,
   "id": "523589e7-d5b9-4227-bda9-cc12547153b8",
   "metadata": {
    "jupyter": {
     "source_hidden": true
    },
    "tags": []
   },
   "outputs": [
    {
     "ename": "SyntaxError",
     "evalue": "invalid syntax (3714484302.py, line 2)",
     "output_type": "error",
     "traceback": [
      "\u001b[0;36m  File \u001b[0;32m\"/var/folders/jm/7sx_jkb90rz2c68l8hlsycpc0000gn/T/ipykernel_4236/3714484302.py\"\u001b[0;36m, line \u001b[0;32m2\u001b[0m\n\u001b[0;31m    .sort_values(['rating', 'price'], ascending=[False,True])\u001b[0m\n\u001b[0m    ^\u001b[0m\n\u001b[0;31mSyntaxError\u001b[0m\u001b[0;31m:\u001b[0m invalid syntax\n"
     ]
    }
   ],
   "source": [
    "pivotL = pd.pivot_table(df, index='neighbourhood_group', values='price', aggfunc=('mean'))\n",
    ".sort_values(['rating', 'price'], ascending=[False,True])\n",
    "table1"
   ]
  },
  {
   "cell_type": "code",
   "execution_count": null,
   "id": "f8698945-738c-454a-bd3f-066168fa481f",
   "metadata": {
    "jupyter": {
     "source_hidden": true
    },
    "tags": []
   },
   "outputs": [],
   "source": [
    "rentals1 = df.groupby('neighbourhood_group')[['price']].mean()\n",
    "rentals1"
   ]
  }
 ],
 "metadata": {
  "kernelspec": {
   "display_name": "Python 3 (ipykernel)",
   "language": "python",
   "name": "python3"
  },
  "language_info": {
   "codemirror_mode": {
    "name": "ipython",
    "version": 3
   },
   "file_extension": ".py",
   "mimetype": "text/x-python",
   "name": "python",
   "nbconvert_exporter": "python",
   "pygments_lexer": "ipython3",
   "version": "3.9.13"
  }
 },
 "nbformat": 4,
 "nbformat_minor": 5
}
